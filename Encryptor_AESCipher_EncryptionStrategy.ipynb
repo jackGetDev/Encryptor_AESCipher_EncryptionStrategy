{
  "nbformat": 4,
  "nbformat_minor": 0,
  "metadata": {
    "colab": {
      "provenance": []
    },
    "kernelspec": {
      "name": "python3",
      "display_name": "Python 3"
    },
    "language_info": {
      "name": "python"
    }
  },
  "cells": [
    {
      "cell_type": "markdown",
      "source": [
        "## **ENCRYPTOR**"
      ],
      "metadata": {
        "id": "98i1fu4Rhzvz"
      }
    },
    {
      "cell_type": "code",
      "execution_count": 2,
      "metadata": {
        "colab": {
          "base_uri": "https://localhost:8080/"
        },
        "id": "lnUhZSsbBmDm",
        "outputId": "6cdfda12-b787-48f4-efa7-33bbf07f542f"
      },
      "outputs": [
        {
          "output_type": "stream",
          "name": "stdout",
          "text": [
            "Message: This is a secret message.\n",
            "Token (Low complexity): N07DRANU32Q2VTWY4OUCFU2J6KSRVU1NZNYRNA0CCDW94BSZ\n",
            "Token (Medium complexity): LACCEUTFMOTO35NP2RL5GYKBV9N045F0AZBT38OHBWQRRUEC\n",
            "Token (High complexity): H6MJXB6KJHJVI6LZEJUIKN9OWRPR3K1DK1X6ITNJ8E58V2XW\n"
          ]
        }
      ],
      "source": [
        "from cryptography.hazmat.primitives import padding\n",
        "from cryptography.hazmat.primitives.ciphers import Cipher, algorithms, modes\n",
        "import string\n",
        "import random\n",
        "import secrets\n",
        "\n",
        "class EncryptionStrategy:\n",
        "    def encrypt(self, message):\n",
        "        pass\n",
        "\n",
        "    def decrypt(self, encrypted_message):\n",
        "        pass\n",
        "\n",
        "class AESCipher(EncryptionStrategy):\n",
        "    def __init__(self, key):\n",
        "        self._key = key\n",
        "\n",
        "    def encrypt(self, message):\n",
        "        iv = secrets.token_bytes(16)\n",
        "        cipher = Cipher(algorithms.AES(self._key), modes.CBC(iv))\n",
        "        encryptor = cipher.encryptor()\n",
        "\n",
        "        # Encode the message as bytes\n",
        "        message_bytes = message.encode('utf-8')\n",
        "\n",
        "        # Apply padding to the message\n",
        "        padder = padding.PKCS7(128).padder()\n",
        "        padded_message = padder.update(message_bytes) + padder.finalize()\n",
        "\n",
        "        ct = encryptor.update(padded_message) + encryptor.finalize()\n",
        "        return iv + ct\n",
        "\n",
        "    def decrypt(self, encrypted_message):\n",
        "        iv = encrypted_message[:16]\n",
        "        ct = encrypted_message[16:]\n",
        "        cipher = Cipher(algorithms.AES(self._key), modes.CBC(iv))\n",
        "        decryptor = cipher.decryptor()\n",
        "\n",
        "        # Decrypt the ciphertext\n",
        "        pt = decryptor.update(ct) + decryptor.finalize()\n",
        "\n",
        "        # Create a new unpadder using the original padding algorithm\n",
        "        unpadder = padding.PKCS7(128).unpadder()\n",
        "\n",
        "        # Update the unpadder with the decrypted bytes\n",
        "        unpadded_message_bytes = unpadder.update(pt)\n",
        "\n",
        "        # Finalize the unpadder to remove padding\n",
        "        try:\n",
        "            unpadded_message_bytes += unpadder.finalize()\n",
        "        except ValueError:\n",
        "            raise ValueError(\"Invalid padding bytes.\")\n",
        "\n",
        "        return unpadded_message_bytes.decode('utf-8')\n",
        "\n",
        "class Encryptor:\n",
        "    def __init__(self, strategy):\n",
        "        self._strategy = strategy\n",
        "\n",
        "    def set_key(self, key):\n",
        "        self._key = key\n",
        "\n",
        "    def encrypt_message(self, message):\n",
        "        return self._strategy.encrypt(message)\n",
        "\n",
        "    def decrypt_message(self, encrypted_message):\n",
        "        return self._strategy.decrypt(encrypted_message)\n",
        "\n",
        "class EncryptionComplexity:\n",
        "    def __init__(self):\n",
        "        self._strategies = {}\n",
        "\n",
        "    def register_strategy(self, complexity, strategy):\n",
        "        self._strategies[complexity] = strategy\n",
        "\n",
        "    def get_strategy(self, complexity):\n",
        "        return self._strategies.get(complexity)\n",
        "\n",
        "    def _generate_token(self, encrypted_message):\n",
        "        characters = string.ascii_uppercase + string.digits\n",
        "        token = ''.join(random.choice(characters) for _ in range(len(encrypted_message)))\n",
        "        return token\n",
        "\n",
        "    def _parse_token(self, token):\n",
        "        # Convert the token back to bytes\n",
        "        token_bytes = token.encode('utf-8')\n",
        "\n",
        "        # Extract the IV (first 16 bytes of the token)\n",
        "        iv = token_bytes[:16]\n",
        "\n",
        "        # Extract the encrypted message and pad length from the token\n",
        "        encrypted_message = token_bytes[16:-1]\n",
        "        pad_length = ord(token[-1])\n",
        "\n",
        "        return encrypted_message, pad_length\n",
        "\n",
        "    def encrypt_message(self, message, complexity):\n",
        "        strategy = self.get_strategy(complexity)\n",
        "        if strategy:\n",
        "            encrypted_message = strategy.encrypt(message)\n",
        "            token = self._generate_token(encrypted_message)\n",
        "            return token\n",
        "        else:\n",
        "            raise ValueError(f\"Encryption complexity level '{complexity}' not found.\")\n",
        "\n",
        "    def decrypt_message(self, token, complexity):\n",
        "        strategy = self.get_strategy(complexity)\n",
        "        if strategy:\n",
        "            encrypted_message, pad_length = self._parse_token(token)\n",
        "            decrypted_message = strategy.decrypt(encrypted_message)\n",
        "            return decrypted_message[:-pad_length]\n",
        "        else:\n",
        "            raise ValueError(f\"Encryption complexity level '{complexity}' not found.\")\n",
        "\n",
        "if __name__ == \"__main__\":\n",
        "    # Create an instance of the EncryptionComplexity class\n",
        "    encryption_complexity = EncryptionComplexity()\n",
        "\n",
        "    # Generate encryption keys for different complexity levels (Low, Medium, High)\n",
        "    key_low = secrets.token_bytes(16)    # 16 bytes (128 bits) key\n",
        "    key_medium = secrets.token_bytes(24) # 24 bytes (192 bits) key\n",
        "    key_high = secrets.token_bytes(32)   # 32 bytes (256 bits) key\n",
        "\n",
        "    # Register AESCipher strategies with their corresponding encryption keys for each complexity level\n",
        "    encryption_complexity.register_strategy(\"Low\", AESCipher(key_low))\n",
        "    encryption_complexity.register_strategy(\"Medium\", AESCipher(key_medium))\n",
        "    encryption_complexity.register_strategy(\"High\", AESCipher(key_high))\n",
        "\n",
        "    # Message to be encrypted\n",
        "    message = \"This is a secret message.\"\n",
        "\n",
        "    # Encrypt the message using the desired complexity level to obtain a token-like encrypted result\n",
        "    token_low = encryption_complexity.encrypt_message(message, \"Low\")\n",
        "    token_medium = encryption_complexity.encrypt_message(message, \"Medium\")\n",
        "    token_high = encryption_complexity.encrypt_message(message, \"High\")\n",
        "\n",
        "    # Display the encrypted message in token-like format\n",
        "    print(\"Message:\", message)\n",
        "    print(\"Token (Low complexity):\", token_low)\n",
        "    print(\"Token (Medium complexity):\", token_medium)\n",
        "    print(\"Token (High complexity):\", token_high)\n"
      ]
    },
    {
      "cell_type": "markdown",
      "source": [
        "## **ON PROGRESS**"
      ],
      "metadata": {
        "id": "bH8hGFtIhrk4"
      }
    },
    {
      "cell_type": "code",
      "source": [
        "    # # Decrypt the token-like encrypted message back to the original message using the appropriate complexity level\n",
        "    # decrypted_message_low = encryption_complexity.decrypt_message(token_low, \"Low\")\n",
        "    # decrypted_message_medium = encryption_complexity.decrypt_message(token_medium, \"Medium\")\n",
        "    # decrypted_message_high = encryption_complexity.decrypt_message(token_high, \"High\")\n",
        "\n",
        "    # # # Display the decrypted messages\n",
        "    # # print(\"\\nDecrypted message (Low complexity):\", decrypted_message_low)\n",
        "    # # print(\"Decrypted message (Medium complexity):\", decrypted_message_medium)\n",
        "    # # print(\"Decrypted message (High complexity):\", decrypted_message_high)\n"
      ],
      "metadata": {
        "id": "dQunOLhbhqIU"
      },
      "execution_count": null,
      "outputs": []
    }
  ]
}